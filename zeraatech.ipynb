{
  "cells": [
    {
      "cell_type": "code",
      "execution_count": null,
      "metadata": {
        "colab": {
          "base_uri": "https://localhost:8080/"
        },
        "id": "AMlvM8DG9ODm",
        "outputId": "a64c6064-9eeb-44f2-8dd4-889139fe3818"
      },
      "outputs": [
        {
          "name": "stdout",
          "output_type": "stream",
          "text": [
            "Dataset loaded successfully!\n",
            "Shape: (2200, 8)\n",
            "\n",
            "Column names: ['N', 'P', 'K', 'temperature', 'humidity', 'ph', 'rainfall', 'label']\n",
            "\n",
            "Removed missing values. Remaining rows: 2200\n",
            "\n",
            "Encoded categorical columns automatically.\n",
            "\n",
            "Detected possible target column(s): ['label']\n",
            "\n",
            "Detected task type: Classification\n",
            "Random Forest Accuracy: 0.9932\n",
            "Logistic Regression Accuracy: 0.9636\n",
            "SVM Accuracy: 0.9682\n",
            "KNN Accuracy: 0.9568\n"
          ]
        },
        {
          "name": "stderr",
          "output_type": "stream",
          "text": [
            "c:\\Users\\Abdelrahman Hossam\\AppData\\Local\\Python\\pythoncore-3.14-64\\Lib\\site-packages\\xgboost\\training.py:183: UserWarning: [14:44:59] WARNING: C:\\actions-runner\\_work\\xgboost\\xgboost\\src\\learner.cc:738: \n",
            "Parameters: { \"use_label_encoder\" } are not used.\n",
            "\n",
            "  bst.update(dtrain, iteration=i, fobj=obj)\n"
          ]
        },
        {
          "name": "stdout",
          "output_type": "stream",
          "text": [
            "XGBoost Accuracy: 0.9864\n",
            "\n",
            "Best Model: Random Forest\n",
            "Best Accuracy: 0.9932\n",
            "\n",
            "Training complete. Ready for predictions!\n"
          ]
        }
      ],
      "source": [
        "import pandas as pd\n",
        "import numpy as np\n",
        "from sklearn.model_selection import train_test_split\n",
        "from sklearn.preprocessing import LabelEncoder, StandardScaler\n",
        "from sklearn.metrics import accuracy_score, r2_score\n",
        "from sklearn.ensemble import RandomForestClassifier, RandomForestRegressor\n",
        "from sklearn.linear_model import LogisticRegression, LinearRegression\n",
        "from sklearn.svm import SVC, SVR\n",
        "from sklearn.neighbors import KNeighborsClassifier, KNeighborsRegressor\n",
        "from xgboost import XGBClassifier, XGBRegressor\n",
        "\n",
        "df = pd.read_csv(\"crop_data1.csv\")\n",
        "print(\"Dataset loaded successfully!\")\n",
        "print(f\"Shape: {df.shape}\")\n",
        "print(\"\\nColumn names:\", df.columns.tolist())\n",
        "\n",
        "df = df.dropna()\n",
        "print(f\"\\nRemoved missing values. Remaining rows: {len(df)}\")\n",
        "\n",
        "for col in df.select_dtypes(include=['object']).columns:\n",
        "    le = LabelEncoder()\n",
        "    df[col] = le.fit_transform(df[col])\n",
        "print(\"\\nEncoded categorical columns automatically.\")\n",
        "\n",
        "numeric_cols = df.select_dtypes(include=[np.number]).columns\n",
        "if len(df.columns) > 5:\n",
        "    possible_targets = df.columns[-1:]\n",
        "else:\n",
        "    possible_targets = [df.columns[-1]]\n",
        "\n",
        "print(f\"\\nDetected possible target column(s): {list(possible_targets)}\")\n",
        "\n",
        "X = df.drop(columns=possible_targets)\n",
        "y = df[possible_targets]\n",
        "\n",
        "is_classification = False\n",
        "for col in y.columns:\n",
        "    if len(y[col].unique()) < 20 or y[col].dtype == 'int':\n",
        "        is_classification = True\n",
        "\n",
        "task_type = \"Classification\" if is_classification else \"Regression\"\n",
        "print(f\"\\nDetected task type: {task_type}\")\n",
        "\n",
        "scaler = StandardScaler()\n",
        "X = scaler.fit_transform(X)\n",
        "\n",
        "X_train, X_test, y_train, y_test = train_test_split(X, y, test_size=0.2, random_state=42)\n",
        "\n",
        "if is_classification:\n",
        "    models = {\n",
        "        \"Random Forest\": RandomForestClassifier(random_state=42),\n",
        "        \"Logistic Regression\": LogisticRegression(max_iter=1000),\n",
        "        \"SVM\": SVC(),\n",
        "        \"KNN\": KNeighborsClassifier(),\n",
        "        \"XGBoost\": XGBClassifier(use_label_encoder=False, eval_metric='logloss')\n",
        "    }\n",
        "else:\n",
        "    models = {\n",
        "        \"Random Forest\": RandomForestRegressor(random_state=42),\n",
        "        \"Linear Regression\": LinearRegression(),\n",
        "        \"SVR\": SVR(),\n",
        "        \"KNN\": KNeighborsRegressor(),\n",
        "        \"XGBoost\": XGBRegressor(eval_metric='rmse')\n",
        "    }\n",
        "\n",
        "scores = {}\n",
        "for name, model in models.items():\n",
        "    model.fit(X_train, y_train.values.ravel() if y.shape[1] == 1 else y_train)\n",
        "    preds = model.predict(X_test)\n",
        "\n",
        "    if is_classification:\n",
        "        score = accuracy_score(y_test, preds)\n",
        "        print(f\"{name} Accuracy: {score:.4f}\")\n",
        "    else:\n",
        "        score = r2_score(y_test, preds)\n",
        "        print(f\"{name} R² Score: {score:.4f}\")\n",
        "\n",
        "    scores[name] = score\n",
        "\n",
        "best_model = max(scores, key=scores.get)\n",
        "print(f\"\\nBest Model: {best_model}\")\n",
        "print(f\"Best {('Accuracy' if is_classification else 'R² Score')}: {scores[best_model]:.4f}\")\n",
        "print(\"\\nTraining complete. Ready for predictions!\")\n"
      ]
    }
  ],
  "metadata": {
    "colab": {
      "provenance": []
    },
    "kernelspec": {
      "display_name": "Python 3",
      "name": "python3"
    },
    "language_info": {
      "codemirror_mode": {
        "name": "ipython",
        "version": 3
      },
      "file_extension": ".py",
      "mimetype": "text/x-python",
      "name": "python",
      "nbconvert_exporter": "python",
      "pygments_lexer": "ipython3",
      "version": "3.14.0"
    }
  },
  "nbformat": 4,
  "nbformat_minor": 0
}
